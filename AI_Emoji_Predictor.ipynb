{
  "nbformat": 4,
  "nbformat_minor": 0,
  "metadata": {
    "colab": {
      "provenance": []
    },
    "kernelspec": {
      "name": "python3",
      "display_name": "Python 3"
    },
    "language_info": {
      "name": "python"
    }
  },
  "cells": [
    {
      "cell_type": "markdown",
      "source": [
        "## STEP 1: Install & Import Libraries"
      ],
      "metadata": {
        "id": "AIQgrI1M3LiP"
      }
    },
    {
      "cell_type": "code",
      "source": [
        "\n",
        "# Install missing libraries (only runs if needed)\n",
        "!pip install scikit-learn pandas numpy matplotlib seaborn --quiet\n",
        "\n",
        "# Import main libraries\n",
        "import pandas as pd\n",
        "import numpy as np\n",
        "import matplotlib.pyplot as plt\n",
        "import seaborn as sns\n",
        "\n",
        "# For model building & evaluation\n",
        "from sklearn.feature_extraction.text import TfidfVectorizer\n",
        "from sklearn.model_selection import train_test_split\n",
        "from sklearn.linear_model import LogisticRegression\n",
        "from sklearn.preprocessing import LabelEncoder\n",
        "from sklearn.metrics import accuracy_score, confusion_matrix, classification_report\n",
        "\n",
        "# Reproducibility\n",
        "import random\n",
        "random.seed(42)\n",
        "np.random.seed(42)\n",
        "\n",
        "print(\"✅ Libraries imported successfully!\")\n"
      ],
      "metadata": {
        "colab": {
          "base_uri": "https://localhost:8080/"
        },
        "id": "azgArwjB3Ep6",
        "outputId": "1dd5e314-740b-4124-e133-0c94bdb83bb8"
      },
      "execution_count": null,
      "outputs": [
        {
          "output_type": "stream",
          "name": "stdout",
          "text": [
            "✅ Libraries imported successfully!\n"
          ]
        }
      ]
    },
    {
      "cell_type": "markdown",
      "source": [
        "## STEP 2: Upload & Load Dataset"
      ],
      "metadata": {
        "id": "UXMCqPq330U1"
      }
    },
    {
      "cell_type": "code",
      "execution_count": null,
      "metadata": {
        "colab": {
          "base_uri": "https://localhost:8080/",
          "height": 73
        },
        "id": "GOwjHKbF1ihp",
        "outputId": "57098dcb-b7a7-4833-a991-b9deec356983"
      },
      "outputs": [
        {
          "output_type": "display_data",
          "data": {
            "text/plain": [
              "<IPython.core.display.HTML object>"
            ],
            "text/html": [
              "\n",
              "     <input type=\"file\" id=\"files-02cec936-fbc2-4a2f-a582-895c5efa5137\" name=\"files[]\" multiple disabled\n",
              "        style=\"border:none\" />\n",
              "     <output id=\"result-02cec936-fbc2-4a2f-a582-895c5efa5137\">\n",
              "      Upload widget is only available when the cell has been executed in the\n",
              "      current browser session. Please rerun this cell to enable.\n",
              "      </output>\n",
              "      <script>// Copyright 2017 Google LLC\n",
              "//\n",
              "// Licensed under the Apache License, Version 2.0 (the \"License\");\n",
              "// you may not use this file except in compliance with the License.\n",
              "// You may obtain a copy of the License at\n",
              "//\n",
              "//      http://www.apache.org/licenses/LICENSE-2.0\n",
              "//\n",
              "// Unless required by applicable law or agreed to in writing, software\n",
              "// distributed under the License is distributed on an \"AS IS\" BASIS,\n",
              "// WITHOUT WARRANTIES OR CONDITIONS OF ANY KIND, either express or implied.\n",
              "// See the License for the specific language governing permissions and\n",
              "// limitations under the License.\n",
              "\n",
              "/**\n",
              " * @fileoverview Helpers for google.colab Python module.\n",
              " */\n",
              "(function(scope) {\n",
              "function span(text, styleAttributes = {}) {\n",
              "  const element = document.createElement('span');\n",
              "  element.textContent = text;\n",
              "  for (const key of Object.keys(styleAttributes)) {\n",
              "    element.style[key] = styleAttributes[key];\n",
              "  }\n",
              "  return element;\n",
              "}\n",
              "\n",
              "// Max number of bytes which will be uploaded at a time.\n",
              "const MAX_PAYLOAD_SIZE = 100 * 1024;\n",
              "\n",
              "function _uploadFiles(inputId, outputId) {\n",
              "  const steps = uploadFilesStep(inputId, outputId);\n",
              "  const outputElement = document.getElementById(outputId);\n",
              "  // Cache steps on the outputElement to make it available for the next call\n",
              "  // to uploadFilesContinue from Python.\n",
              "  outputElement.steps = steps;\n",
              "\n",
              "  return _uploadFilesContinue(outputId);\n",
              "}\n",
              "\n",
              "// This is roughly an async generator (not supported in the browser yet),\n",
              "// where there are multiple asynchronous steps and the Python side is going\n",
              "// to poll for completion of each step.\n",
              "// This uses a Promise to block the python side on completion of each step,\n",
              "// then passes the result of the previous step as the input to the next step.\n",
              "function _uploadFilesContinue(outputId) {\n",
              "  const outputElement = document.getElementById(outputId);\n",
              "  const steps = outputElement.steps;\n",
              "\n",
              "  const next = steps.next(outputElement.lastPromiseValue);\n",
              "  return Promise.resolve(next.value.promise).then((value) => {\n",
              "    // Cache the last promise value to make it available to the next\n",
              "    // step of the generator.\n",
              "    outputElement.lastPromiseValue = value;\n",
              "    return next.value.response;\n",
              "  });\n",
              "}\n",
              "\n",
              "/**\n",
              " * Generator function which is called between each async step of the upload\n",
              " * process.\n",
              " * @param {string} inputId Element ID of the input file picker element.\n",
              " * @param {string} outputId Element ID of the output display.\n",
              " * @return {!Iterable<!Object>} Iterable of next steps.\n",
              " */\n",
              "function* uploadFilesStep(inputId, outputId) {\n",
              "  const inputElement = document.getElementById(inputId);\n",
              "  inputElement.disabled = false;\n",
              "\n",
              "  const outputElement = document.getElementById(outputId);\n",
              "  outputElement.innerHTML = '';\n",
              "\n",
              "  const pickedPromise = new Promise((resolve) => {\n",
              "    inputElement.addEventListener('change', (e) => {\n",
              "      resolve(e.target.files);\n",
              "    });\n",
              "  });\n",
              "\n",
              "  const cancel = document.createElement('button');\n",
              "  inputElement.parentElement.appendChild(cancel);\n",
              "  cancel.textContent = 'Cancel upload';\n",
              "  const cancelPromise = new Promise((resolve) => {\n",
              "    cancel.onclick = () => {\n",
              "      resolve(null);\n",
              "    };\n",
              "  });\n",
              "\n",
              "  // Wait for the user to pick the files.\n",
              "  const files = yield {\n",
              "    promise: Promise.race([pickedPromise, cancelPromise]),\n",
              "    response: {\n",
              "      action: 'starting',\n",
              "    }\n",
              "  };\n",
              "\n",
              "  cancel.remove();\n",
              "\n",
              "  // Disable the input element since further picks are not allowed.\n",
              "  inputElement.disabled = true;\n",
              "\n",
              "  if (!files) {\n",
              "    return {\n",
              "      response: {\n",
              "        action: 'complete',\n",
              "      }\n",
              "    };\n",
              "  }\n",
              "\n",
              "  for (const file of files) {\n",
              "    const li = document.createElement('li');\n",
              "    li.append(span(file.name, {fontWeight: 'bold'}));\n",
              "    li.append(span(\n",
              "        `(${file.type || 'n/a'}) - ${file.size} bytes, ` +\n",
              "        `last modified: ${\n",
              "            file.lastModifiedDate ? file.lastModifiedDate.toLocaleDateString() :\n",
              "                                    'n/a'} - `));\n",
              "    const percent = span('0% done');\n",
              "    li.appendChild(percent);\n",
              "\n",
              "    outputElement.appendChild(li);\n",
              "\n",
              "    const fileDataPromise = new Promise((resolve) => {\n",
              "      const reader = new FileReader();\n",
              "      reader.onload = (e) => {\n",
              "        resolve(e.target.result);\n",
              "      };\n",
              "      reader.readAsArrayBuffer(file);\n",
              "    });\n",
              "    // Wait for the data to be ready.\n",
              "    let fileData = yield {\n",
              "      promise: fileDataPromise,\n",
              "      response: {\n",
              "        action: 'continue',\n",
              "      }\n",
              "    };\n",
              "\n",
              "    // Use a chunked sending to avoid message size limits. See b/62115660.\n",
              "    let position = 0;\n",
              "    do {\n",
              "      const length = Math.min(fileData.byteLength - position, MAX_PAYLOAD_SIZE);\n",
              "      const chunk = new Uint8Array(fileData, position, length);\n",
              "      position += length;\n",
              "\n",
              "      const base64 = btoa(String.fromCharCode.apply(null, chunk));\n",
              "      yield {\n",
              "        response: {\n",
              "          action: 'append',\n",
              "          file: file.name,\n",
              "          data: base64,\n",
              "        },\n",
              "      };\n",
              "\n",
              "      let percentDone = fileData.byteLength === 0 ?\n",
              "          100 :\n",
              "          Math.round((position / fileData.byteLength) * 100);\n",
              "      percent.textContent = `${percentDone}% done`;\n",
              "\n",
              "    } while (position < fileData.byteLength);\n",
              "  }\n",
              "\n",
              "  // All done.\n",
              "  yield {\n",
              "    response: {\n",
              "      action: 'complete',\n",
              "    }\n",
              "  };\n",
              "}\n",
              "\n",
              "scope.google = scope.google || {};\n",
              "scope.google.colab = scope.google.colab || {};\n",
              "scope.google.colab._files = {\n",
              "  _uploadFiles,\n",
              "  _uploadFilesContinue,\n",
              "};\n",
              "})(self);\n",
              "</script> "
            ]
          },
          "metadata": {}
        },
        {
          "output_type": "stream",
          "name": "stdout",
          "text": [
            "Saving emoji_dataset_expanded.csv to emoji_dataset_expanded (1).csv\n"
          ]
        }
      ],
      "source": [
        "# Colab me file upload karne ka prompt\n",
        "from google.colab import files\n",
        "uploaded = files.upload()  # upload emoji_dataset_expanded.csv (or your CSV)\n"
      ]
    },
    {
      "cell_type": "code",
      "source": [
        "# Uploaded file ka naam lena\n",
        "csv_name = list(uploaded.keys())[0]\n",
        "print(\"📂 Uploaded:\", csv_name)"
      ],
      "metadata": {
        "colab": {
          "base_uri": "https://localhost:8080/"
        },
        "id": "lMjphwAy4ND3",
        "outputId": "a39bcc2c-b403-44e2-eb69-9c85c99708df"
      },
      "execution_count": null,
      "outputs": [
        {
          "output_type": "stream",
          "name": "stdout",
          "text": [
            "📂 Uploaded: emoji_dataset_expanded (1).csv\n"
          ]
        }
      ]
    },
    {
      "cell_type": "code",
      "source": [
        "# Dataset load karna\n",
        "df = pd.read_csv(csv_name)"
      ],
      "metadata": {
        "id": "FFI1_NiD4Wcm"
      },
      "execution_count": null,
      "outputs": []
    },
    {
      "cell_type": "code",
      "source": [
        "# First few rows dekhna\n",
        "print(\"\\n📊 First 5 rows:\")\n",
        "print(df.head())"
      ],
      "metadata": {
        "colab": {
          "base_uri": "https://localhost:8080/"
        },
        "id": "TQORDeYl4dKH",
        "outputId": "d125b9a7-d4f8-4c72-d7de-46773f530360"
      },
      "execution_count": null,
      "outputs": [
        {
          "output_type": "stream",
          "name": "stdout",
          "text": [
            "\n",
            "📊 First 5 rows:\n",
            "                            sentence emoji\n",
            "0          I’m praying for you. haha     🙏\n",
            "1                  Good vibes only..     😊\n",
            "2  This lecture is making me sleepy.     😴\n",
            "3   I’m really angry right now. haha     😡\n",
            "4       That joke was hilarious! lol     😂\n"
          ]
        }
      ]
    },
    {
      "cell_type": "code",
      "source": [
        "# Basic info\n",
        "print(\"\\nℹ️ Dataset info:\")\n",
        "print(df.info())"
      ],
      "metadata": {
        "colab": {
          "base_uri": "https://localhost:8080/"
        },
        "id": "pPk3_AA84pLp",
        "outputId": "21741618-d9ea-4bf5-ca53-b9440bd7a75a"
      },
      "execution_count": null,
      "outputs": [
        {
          "output_type": "stream",
          "name": "stdout",
          "text": [
            "\n",
            "ℹ️ Dataset info:\n",
            "<class 'pandas.core.frame.DataFrame'>\n",
            "RangeIndex: 1200 entries, 0 to 1199\n",
            "Data columns (total 2 columns):\n",
            " #   Column    Non-Null Count  Dtype \n",
            "---  ------    --------------  ----- \n",
            " 0   sentence  1200 non-null   object\n",
            " 1   emoji     1200 non-null   object\n",
            "dtypes: object(2)\n",
            "memory usage: 18.9+ KB\n",
            "None\n"
          ]
        }
      ]
    },
    {
      "cell_type": "code",
      "source": [
        "# Class balance check\n",
        "print(\"\\n⚖️ Emoji count per class:\")\n",
        "print(df['emoji'].value_counts())"
      ],
      "metadata": {
        "colab": {
          "base_uri": "https://localhost:8080/"
        },
        "id": "JKrYOs6l4ttU",
        "outputId": "adbb450a-e8c3-4134-c65d-c9896214b953"
      },
      "execution_count": null,
      "outputs": [
        {
          "output_type": "stream",
          "name": "stdout",
          "text": [
            "\n",
            "⚖️ Emoji count per class:\n",
            "emoji\n",
            "🙏     80\n",
            "😊     80\n",
            "😴     80\n",
            "😡     80\n",
            "😂     80\n",
            "🥳     80\n",
            "🔥     80\n",
            "🎂     80\n",
            "❤️    80\n",
            "🥺     80\n",
            "😱     80\n",
            "🤔     80\n",
            "😋     80\n",
            "😢     80\n",
            "👍     80\n",
            "Name: count, dtype: int64\n"
          ]
        }
      ]
    },
    {
      "cell_type": "markdown",
      "source": [
        "\n",
        "## STEP 3: Preprocessing + Class Balance Visualization\n"
      ],
      "metadata": {
        "id": "8koeXoGt5Bx0"
      }
    },
    {
      "cell_type": "code",
      "source": [
        "import pandas as pd\n",
        "import matplotlib.pyplot as plt\n",
        "from sklearn.model_selection import train_test_split\n",
        "from sklearn.preprocessing import LabelEncoder\n",
        "from sklearn.feature_extraction.text import TfidfVectorizer"
      ],
      "metadata": {
        "id": "mlmrXH4L5BKv"
      },
      "execution_count": null,
      "outputs": []
    },
    {
      "cell_type": "code",
      "source": [
        "# Text clean function (basic)\n",
        "def clean_text(text):\n",
        "    text = str(text).lower().strip()\n",
        "    return text"
      ],
      "metadata": {
        "id": "rYZe9udQ5Myt"
      },
      "execution_count": null,
      "outputs": []
    },
    {
      "cell_type": "code",
      "source": [
        "# Apply cleaning\n",
        "df['sentence'] = df['sentence'].apply(clean_text)"
      ],
      "metadata": {
        "id": "wBfL50EF5Ppe"
      },
      "execution_count": null,
      "outputs": []
    },
    {
      "cell_type": "code",
      "source": [
        "# Label encoding emojis\n",
        "le = LabelEncoder()\n",
        "df['label'] = le.fit_transform(df['emoji'])"
      ],
      "metadata": {
        "id": "LCXzg2B35R-M"
      },
      "execution_count": null,
      "outputs": []
    },
    {
      "cell_type": "code",
      "source": [
        "import seaborn as sns\n",
        "import matplotlib.pyplot as plt\n",
        "\n",
        "# Class balance plot (better version)\n",
        "plt.figure(figsize=(12,6))\n",
        "ax = sns.barplot(\n",
        "    x=df['emoji'].value_counts().index,\n",
        "    y=df['emoji'].value_counts().values,\n",
        "    palette=\"coolwarm\"\n",
        ")\n",
        "\n",
        "# Title & labels\n",
        "plt.title(\"Emoji Class Distribution\", fontsize=16, fontweight='bold')\n",
        "plt.xlabel(\"Emoji\", fontsize=14)\n",
        "plt.ylabel(\"Count\", fontsize=14)\n",
        "\n",
        "# Show values on top of bars\n",
        "for p in ax.patches:\n",
        "    ax.annotate(\n",
        "        f'{int(p.get_height())}',\n",
        "        (p.get_x() + p.get_width() / 2., p.get_height()),\n",
        "        ha='center', va='bottom',\n",
        "        fontsize=12, color='black', fontweight='bold'\n",
        "    )\n",
        "\n",
        "# Style adjustments\n",
        "plt.xticks(rotation=0, fontsize=14)\n",
        "plt.yticks(fontsize=12)\n",
        "plt.grid(axis='y', linestyle='--', alpha=0.5)\n",
        "sns.despine()\n",
        "plt.show()\n"
      ],
      "metadata": {
        "colab": {
          "base_uri": "https://localhost:8080/",
          "height": 845
        },
        "id": "OYe7MA-L57H_",
        "outputId": "7d76a164-3922-410b-abc0-de0b22669711"
      },
      "execution_count": null,
      "outputs": [
        {
          "output_type": "stream",
          "name": "stderr",
          "text": [
            "/tmp/ipython-input-334126512.py:6: FutureWarning: \n",
            "\n",
            "Passing `palette` without assigning `hue` is deprecated and will be removed in v0.14.0. Assign the `x` variable to `hue` and set `legend=False` for the same effect.\n",
            "\n",
            "  ax = sns.barplot(\n",
            "/usr/local/lib/python3.11/dist-packages/IPython/core/pylabtools.py:151: UserWarning: Glyph 128591 (\\N{PERSON WITH FOLDED HANDS}) missing from font(s) DejaVu Sans.\n",
            "  fig.canvas.print_figure(bytes_io, **kw)\n",
            "/usr/local/lib/python3.11/dist-packages/IPython/core/pylabtools.py:151: UserWarning: Glyph 129395 (\\N{FACE WITH PARTY HORN AND PARTY HAT}) missing from font(s) DejaVu Sans.\n",
            "  fig.canvas.print_figure(bytes_io, **kw)\n",
            "/usr/local/lib/python3.11/dist-packages/IPython/core/pylabtools.py:151: UserWarning: Glyph 128293 (\\N{FIRE}) missing from font(s) DejaVu Sans.\n",
            "  fig.canvas.print_figure(bytes_io, **kw)\n",
            "/usr/local/lib/python3.11/dist-packages/IPython/core/pylabtools.py:151: UserWarning: Glyph 127874 (\\N{BIRTHDAY CAKE}) missing from font(s) DejaVu Sans.\n",
            "  fig.canvas.print_figure(bytes_io, **kw)\n",
            "/usr/local/lib/python3.11/dist-packages/IPython/core/pylabtools.py:151: UserWarning: Glyph 129402 (\\N{FACE WITH PLEADING EYES}) missing from font(s) DejaVu Sans.\n",
            "  fig.canvas.print_figure(bytes_io, **kw)\n",
            "/usr/local/lib/python3.11/dist-packages/IPython/core/pylabtools.py:151: UserWarning: Glyph 129300 (\\N{THINKING FACE}) missing from font(s) DejaVu Sans.\n",
            "  fig.canvas.print_figure(bytes_io, **kw)\n",
            "/usr/local/lib/python3.11/dist-packages/IPython/core/pylabtools.py:151: UserWarning: Glyph 128077 (\\N{THUMBS UP SIGN}) missing from font(s) DejaVu Sans.\n",
            "  fig.canvas.print_figure(bytes_io, **kw)\n"
          ]
        },
        {
          "output_type": "display_data",
          "data": {
            "text/plain": [
              "<Figure size 1200x600 with 1 Axes>"
            ],
            "image/png": "[encoded data removed]"
          },
          "metadata": {}
        }
      ]
    },
    {
      "cell_type": "markdown",
      "source": [
        "## Step 4: Train-test split and TF-IDF vectorization"
      ],
      "metadata": {
        "id": "ur4WnqCH6Od1"
      }
    },
    {
      "cell_type": "code",
      "source": [
        "from sklearn.model_selection import train_test_split\n",
        "from sklearn.feature_extraction.text import TfidfVectorizer\n",
        "from sklearn.preprocessing import LabelEncoder\n",
        "\n",
        "# X = sentences, y = emojis\n",
        "X = df['sentence']\n",
        "y = df['emoji']"
      ],
      "metadata": {
        "id": "HMCQlhPd6CW4"
      },
      "execution_count": null,
      "outputs": []
    },
    {
      "cell_type": "code",
      "source": [
        "# Encode labels (emojis ko numeric banate hain)\n",
        "le = LabelEncoder()\n",
        "y_encoded = le.fit_transform(y)"
      ],
      "metadata": {
        "id": "zMzfDP336UGx"
      },
      "execution_count": null,
      "outputs": []
    },
    {
      "cell_type": "code",
      "source": [
        "# Split data (80% train, 20% test)\n",
        "X_train, X_test, y_train, y_test = train_test_split(\n",
        "    X, y_encoded, test_size=0.2, random_state=42, stratify=y_encoded\n",
        ")"
      ],
      "metadata": {
        "id": "RV6xLNNx6WV_"
      },
      "execution_count": null,
      "outputs": []
    },
    {
      "cell_type": "code",
      "source": [
        "# TF-IDF vectorization\n",
        "vectorizer = TfidfVectorizer(ngram_range=(1,2), min_df=2)\n",
        "X_train_tfidf = vectorizer.fit_transform(X_train)\n",
        "X_test_tfidf = vectorizer.transform(X_test)\n",
        "\n",
        "print(\"Training set size:\", X_train_tfidf.shape)\n",
        "print(\"Test set size:\", X_test_tfidf.shape)"
      ],
      "metadata": {
        "colab": {
          "base_uri": "https://localhost:8080/"
        },
        "id": "0w8fgxBB6Y29",
        "outputId": "6a6ad2fe-4197-4f27-90b5-97d752eb9c32"
      },
      "execution_count": null,
      "outputs": [
        {
          "output_type": "stream",
          "name": "stdout",
          "text": [
            "Training set size: (960, 521)\n",
            "Test set size: (240, 521)\n"
          ]
        }
      ]
    },
    {
      "cell_type": "markdown",
      "source": [
        "## Step 5: Train the Emoji Prediction Model"
      ],
      "metadata": {
        "id": "xaQKaAU56kTa"
      }
    },
    {
      "cell_type": "code",
      "source": [
        "from sklearn.linear_model import LogisticRegression\n",
        "\n",
        "# Model initialization\n",
        "model = LogisticRegression(max_iter=1000, solver='lbfgs', multi_class='multinomial')\n",
        "\n",
        "# Train the model\n",
        "model.fit(X_train_tfidf, y_train)\n",
        "\n",
        "# Predictions\n",
        "y_pred = model.predict(X_test_tfidf)\n",
        "\n",
        "print(\"Model training complete ✅\")"
      ],
      "metadata": {
        "colab": {
          "base_uri": "https://localhost:8080/"
        },
        "id": "aPUw_FkN6bH0",
        "outputId": "63bf9dd0-2152-4371-9d3e-8d353a6b7f7f"
      },
      "execution_count": null,
      "outputs": [
        {
          "output_type": "stream",
          "name": "stdout",
          "text": [
            "Model training complete ✅\n"
          ]
        },
        {
          "output_type": "stream",
          "name": "stderr",
          "text": [
            "/usr/local/lib/python3.11/dist-packages/sklearn/linear_model/_logistic.py:1247: FutureWarning: 'multi_class' was deprecated in version 1.5 and will be removed in 1.7. From then on, it will always use 'multinomial'. Leave it to its default value to avoid this warning.\n",
            "  warnings.warn(\n"
          ]
        }
      ]
    },
    {
      "cell_type": "markdown",
      "source": [
        "## Step 6: Model Evaluation"
      ],
      "metadata": {
        "id": "bBMUVAeZ8SNt"
      }
    },
    {
      "cell_type": "code",
      "source": [
        "from sklearn.metrics import accuracy_score, classification_report, confusion_matrix\n",
        "import seaborn as sns\n",
        "import matplotlib.pyplot as plt\n",
        "\n",
        "# Accuracy\n",
        "accuracy = accuracy_score(y_test, y_pred)\n",
        "print(f\"Accuracy: {accuracy:.2%}\")"
      ],
      "metadata": {
        "id": "JomWHpbg6yWr",
        "colab": {
          "base_uri": "https://localhost:8080/"
        },
        "outputId": "69ccdd5e-73ed-4c89-b5e1-588d5e21baa7"
      },
      "execution_count": 31,
      "outputs": [
        {
          "output_type": "stream",
          "name": "stdout",
          "text": [
            "Accuracy: 100.00%\n"
          ]
        }
      ]
    },
    {
      "cell_type": "code",
      "source": [
        "# Classification report\n",
        "print(\"\\nClassification Report:\")\n",
        "print(classification_report(y_test, y_pred, target_names=le.classes_))"
      ],
      "metadata": {
        "colab": {
          "base_uri": "https://localhost:8080/"
        },
        "id": "zuQ9wH8P8aGt",
        "outputId": "9fae7ff1-ca57-493b-92eb-de7cf1c9b307"
      },
      "execution_count": 32,
      "outputs": [
        {
          "output_type": "stream",
          "name": "stdout",
          "text": [
            "\n",
            "Classification Report:\n",
            "              precision    recall  f1-score   support\n",
            "\n",
            "          ❤️       1.00      1.00      1.00        16\n",
            "           🎂       1.00      1.00      1.00        16\n",
            "           👍       1.00      1.00      1.00        16\n",
            "           🔥       1.00      1.00      1.00        16\n",
            "           😂       1.00      1.00      1.00        16\n",
            "           😊       1.00      1.00      1.00        16\n",
            "           😋       1.00      1.00      1.00        16\n",
            "           😡       1.00      1.00      1.00        16\n",
            "           😢       1.00      1.00      1.00        16\n",
            "           😱       1.00      1.00      1.00        16\n",
            "           😴       1.00      1.00      1.00        16\n",
            "           🙏       1.00      1.00      1.00        16\n",
            "           🤔       1.00      1.00      1.00        16\n",
            "           🥳       1.00      1.00      1.00        16\n",
            "           🥺       1.00      1.00      1.00        16\n",
            "\n",
            "    accuracy                           1.00       240\n",
            "   macro avg       1.00      1.00      1.00       240\n",
            "weighted avg       1.00      1.00      1.00       240\n",
            "\n"
          ]
        }
      ]
    },
    {
      "cell_type": "code",
      "source": [
        "from sklearn.metrics import confusion_matrix\n",
        "import numpy as np\n",
        "\n",
        "# Confusion Matrix\n",
        "cm = confusion_matrix(y_test, y_pred)\n",
        "\n",
        "plt.figure(figsize=(9, 7))\n",
        "\n",
        "# Heatmap with warm gradient\n",
        "sns.heatmap(cm, annot=True, fmt='d',\n",
        "            cmap='Oranges',       # clean warm orange tone\n",
        "            cbar_kws={'label': 'Count'},\n",
        "            linewidths=0.5, linecolor='white',\n",
        "            annot_kws={\"size\": 12, \"weight\": \"bold\"})  # bold numbers\n",
        "\n",
        "# Labels\n",
        "plt.title(\"Confusion Matrix - Logistic Regression\", fontsize=18, fontweight='bold', pad=15)\n",
        "plt.xlabel(\"Predicted\", fontsize=14)\n",
        "plt.ylabel(\"True\", fontsize=14)\n",
        "\n",
        "# Axis ticks\n",
        "plt.xticks(rotation=45, ha='right', fontsize=12)\n",
        "plt.yticks(rotation=0, fontsize=12)\n",
        "\n",
        "plt.tight_layout()\n",
        "plt.show()\n"
      ],
      "metadata": {
        "colab": {
          "base_uri": "https://localhost:8080/",
          "height": 707
        },
        "id": "9Co7nF0z8iuX",
        "outputId": "afc2bc6f-551a-4a56-d994-e2ab757f6c40"
      },
      "execution_count": 56,
      "outputs": [
        {
          "output_type": "display_data",
          "data": {
            "text/plain": [
              "<Figure size 900x700 with 2 Axes>"
            ],
            "image/png": "[encoded data removed]"
          },
          "metadata": {}
        }
      ]
    },
    {
      "cell_type": "markdown",
      "source": [
        "## Step 7: Model Prediction Test"
      ],
      "metadata": {
        "id": "Nuv9nfqO-2Bu"
      }
    },
    {
      "cell_type": "code",
      "source": [
        "sample_df = df.sample(5, random_state=42)  # Random 5 sentences\n",
        "\n",
        "for idx, row in sample_df.iterrows():\n",
        "    sentence = row['sentence']\n",
        "    actual = row['emoji']\n",
        "\n",
        "    cleaned = sentence.lower()\n",
        "    vec = vectorizer.transform([cleaned])\n",
        "    pred = model.predict(vec)[0]\n",
        "    pred_emoji = le.inverse_transform([pred])[0]\n",
        "\n",
        "    print(f\"Sentence: {sentence}\")\n",
        "    print(f\"Actual Emoji: {actual}\")\n",
        "    print(f\"Predicted Emoji: {pred_emoji}\")\n",
        "    print(\"-\" * 40)"
      ],
      "metadata": {
        "colab": {
          "base_uri": "https://localhost:8080/"
        },
        "id": "kRCqRi_W-ne8",
        "outputId": "005e2571-728d-453a-ae88-cce8f3885cce"
      },
      "execution_count": 46,
      "outputs": [
        {
          "output_type": "stream",
          "name": "stdout",
          "text": [
            "Sentence: that’s so shocking!!\n",
            "Actual Emoji: 😱\n",
            "Predicted Emoji: 😱\n",
            "----------------------------------------\n",
            "Sentence: you have a lovely smile.\n",
            "Actual Emoji: 😊\n",
            "Predicted Emoji: 😊\n",
            "----------------------------------------\n",
            "Sentence: feeling drowsy at work.\n",
            "Actual Emoji: 😴\n",
            "Predicted Emoji: 😴\n",
            "----------------------------------------\n",
            "Sentence: i need to go to bed early tonight. omg\n",
            "Actual Emoji: 😴\n",
            "Predicted Emoji: 😴\n",
            "----------------------------------------\n",
            "Sentence: this game is lit!!\n",
            "Actual Emoji: 🔥\n",
            "Predicted Emoji: 🔥\n",
            "----------------------------------------\n"
          ]
        }
      ]
    },
    {
      "cell_type": "markdown",
      "source": [
        "## Step 8: Prediction Probability Visualization"
      ],
      "metadata": {
        "id": "zDbCBqUH_0LH"
      }
    },
    {
      "cell_type": "code",
      "source": [
        "# Example: pick one random sentence from dataset\n",
        "test_sentence = df.sample(1, random_state=7).iloc[0]['sentence']\n",
        "cleaned = test_sentence.lower()\n",
        "vec = vectorizer.transform([cleaned])\n",
        "probs = model.predict_proba(vec)[0]\n",
        "\n",
        "# Map emoji labels with probabilities\n",
        "emoji_probs = dict(zip(le.classes_, probs))\n",
        "\n",
        "# Sort in descending order\n",
        "emoji_probs = dict(sorted(emoji_probs.items(), key=lambda x: x[1], reverse=True))\n",
        "\n",
        "# Plot\n",
        "plt.figure(figsize=(8,5))\n",
        "plt.bar(emoji_probs.keys(), emoji_probs.values(), color=\"coral\", edgecolor=\"black\")\n",
        "plt.title(f\"Prediction Probabilities for: \\\"{test_sentence}\\\"\", fontsize=14, fontweight='bold')\n",
        "plt.ylabel(\"Probability\")\n",
        "plt.xticks(rotation=45)\n",
        "plt.ylim(0, 1)\n",
        "plt.grid(axis='y', linestyle='--', alpha=0.6)\n",
        "plt.show()\n",
        "\n",
        "# Print also\n",
        "print(f\"Sentence: {test_sentence}\")\n",
        "for emoji, prob in emoji_probs.items():\n",
        "    print(f\"{emoji} : {prob*100:.2f} %\")"
      ],
      "metadata": {
        "colab": {
          "base_uri": "https://localhost:8080/",
          "height": 1000
        },
        "id": "Uaxp1u0l_A42",
        "outputId": "c514a89c-9bc7-4b69-9e7c-83b222bff080"
      },
      "execution_count": 47,
      "outputs": [
        {
          "output_type": "stream",
          "name": "stderr",
          "text": [
            "/usr/local/lib/python3.11/dist-packages/IPython/core/pylabtools.py:151: UserWarning: Glyph 127874 (\\N{BIRTHDAY CAKE}) missing from font(s) DejaVu Sans.\n",
            "  fig.canvas.print_figure(bytes_io, **kw)\n",
            "/usr/local/lib/python3.11/dist-packages/IPython/core/pylabtools.py:151: UserWarning: Glyph 128591 (\\N{PERSON WITH FOLDED HANDS}) missing from font(s) DejaVu Sans.\n",
            "  fig.canvas.print_figure(bytes_io, **kw)\n",
            "/usr/local/lib/python3.11/dist-packages/IPython/core/pylabtools.py:151: UserWarning: Glyph 129402 (\\N{FACE WITH PLEADING EYES}) missing from font(s) DejaVu Sans.\n",
            "  fig.canvas.print_figure(bytes_io, **kw)\n",
            "/usr/local/lib/python3.11/dist-packages/IPython/core/pylabtools.py:151: UserWarning: Glyph 129395 (\\N{FACE WITH PARTY HORN AND PARTY HAT}) missing from font(s) DejaVu Sans.\n",
            "  fig.canvas.print_figure(bytes_io, **kw)\n",
            "/usr/local/lib/python3.11/dist-packages/IPython/core/pylabtools.py:151: UserWarning: Glyph 128077 (\\N{THUMBS UP SIGN}) missing from font(s) DejaVu Sans.\n",
            "  fig.canvas.print_figure(bytes_io, **kw)\n",
            "/usr/local/lib/python3.11/dist-packages/IPython/core/pylabtools.py:151: UserWarning: Glyph 129300 (\\N{THINKING FACE}) missing from font(s) DejaVu Sans.\n",
            "  fig.canvas.print_figure(bytes_io, **kw)\n",
            "/usr/local/lib/python3.11/dist-packages/IPython/core/pylabtools.py:151: UserWarning: Glyph 128293 (\\N{FIRE}) missing from font(s) DejaVu Sans.\n",
            "  fig.canvas.print_figure(bytes_io, **kw)\n"
          ]
        },
        {
          "output_type": "display_data",
          "data": {
            "text/plain": [
              "<Figure size 800x500 with 1 Axes>"
            ],
            "image/png": "[encoded data removed]"
          },
          "metadata": {}
        },
        {
          "output_type": "stream",
          "name": "stdout",
          "text": [
            "Sentence: wishing you the sweetest birthday. please\n",
            "🎂 : 79.96 %\n",
            "❤️ : 1.82 %\n",
            "🙏 : 1.79 %\n",
            "🥺 : 1.73 %\n",
            "🥳 : 1.54 %\n",
            "😊 : 1.50 %\n",
            "👍 : 1.48 %\n",
            "😡 : 1.46 %\n",
            "😱 : 1.33 %\n",
            "😢 : 1.28 %\n",
            "😋 : 1.26 %\n",
            "😂 : 1.26 %\n",
            "🤔 : 1.23 %\n",
            "🔥 : 1.20 %\n",
            "😴 : 1.15 %\n"
          ]
        }
      ]
    },
    {
      "cell_type": "markdown",
      "source": [
        "# Step 9: Real-Time User Input Prediction with Probability Chart"
      ],
      "metadata": {
        "id": "Uc4TbGP9AIDR"
      }
    },
    {
      "cell_type": "code",
      "source": [
        "# User input\n",
        "user_sentence = input(\"Enter a sentence: \")\n",
        "\n",
        "# Preprocess & vectorize\n",
        "cleaned = user_sentence.lower()\n",
        "vec = vectorizer.transform([cleaned])\n",
        "\n",
        "# Predict\n",
        "pred_label = model.predict(vec)[0]\n",
        "probs = model.predict_proba(vec)[0]\n",
        "\n",
        "# Map emojis with probabilities\n",
        "emoji_probs = dict(zip(le.classes_, probs))\n",
        "emoji_probs = dict(sorted(emoji_probs.items(), key=lambda x: x[1], reverse=True))\n",
        "\n",
        "# Print prediction\n",
        "print(f\"\\nSentence: {user_sentence}\")\n",
        "print(f\"Predicted Emoji: {pred_label}\\n\")\n",
        "\n",
        "# Print all probabilities\n",
        "for emoji, prob in emoji_probs.items():\n",
        "    print(f\"{emoji} : {prob*100:.2f} %\")\n",
        "\n",
        "# Plot probability bar chart\n",
        "plt.figure(figsize=(8,5))\n",
        "plt.bar(emoji_probs.keys(), emoji_probs.values(), color=\"mediumseagreen\", edgecolor=\"black\")\n",
        "plt.title(f\"Prediction Probabilities for: \\\"{user_sentence}\\\"\", fontsize=14, fontweight='bold')\n",
        "plt.ylabel(\"Probability\")\n",
        "plt.xticks(rotation=45)\n",
        "plt.ylim(0, 1)\n",
        "plt.grid(axis='y', linestyle='--', alpha=0.6)\n",
        "plt.show()"
      ],
      "metadata": {
        "colab": {
          "base_uri": "https://localhost:8080/",
          "height": 827
        },
        "id": "nA5z5GVt_6yK",
        "outputId": "33e2416c-7e32-4219-83de-4d36a25d8c35"
      },
      "execution_count": 48,
      "outputs": [
        {
          "output_type": "stream",
          "name": "stdout",
          "text": [
            "Enter a sentence: I love programming\n",
            "\n",
            "Sentence: I love programming\n",
            "Predicted Emoji: 0\n",
            "\n",
            "❤️ : 73.96 %\n",
            "😋 : 2.89 %\n",
            "👍 : 2.03 %\n",
            "😢 : 1.95 %\n",
            "😴 : 1.92 %\n",
            "🤔 : 1.91 %\n",
            "😱 : 1.88 %\n",
            "😊 : 1.85 %\n",
            "😡 : 1.81 %\n",
            "🎂 : 1.75 %\n",
            "🔥 : 1.74 %\n",
            "🥳 : 1.72 %\n",
            "😂 : 1.72 %\n",
            "🙏 : 1.48 %\n",
            "🥺 : 1.38 %\n"
          ]
        },
        {
          "output_type": "display_data",
          "data": {
            "text/plain": [
              "<Figure size 800x500 with 1 Axes>"
            ],
            "image/png": "[encoded data removed]"
          },
          "metadata": {}
        }
      ]
    },
    {
      "cell_type": "code",
      "source": [
        "# User input\n",
        "user_sentence = input(\"Enter a sentence: \")\n",
        "\n",
        "# Preprocess & vectorize\n",
        "cleaned = user_sentence.lower()\n",
        "vec = vectorizer.transform([cleaned])\n",
        "\n",
        "# Predict\n",
        "pred_label = model.predict(vec)[0]\n",
        "probs = model.predict_proba(vec)[0]\n",
        "\n",
        "# Map emojis with probabilities\n",
        "emoji_probs = dict(zip(le.classes_, probs))\n",
        "emoji_probs = dict(sorted(emoji_probs.items(), key=lambda x: x[1], reverse=True))\n",
        "\n",
        "# Print prediction\n",
        "print(f\"\\nSentence: {user_sentence}\")\n",
        "print(f\"Predicted Emoji: {pred_label}\\n\")\n",
        "\n",
        "# Print all probabilities\n",
        "for emoji, prob in emoji_probs.items():\n",
        "    print(f\"{emoji} : {prob*100:.2f} %\")\n",
        "\n",
        "# Plot probability bar chart\n",
        "plt.figure(figsize=(8,5))\n",
        "plt.bar(emoji_probs.keys(), emoji_probs.values(), color=\"mediumseagreen\", edgecolor=\"black\")\n",
        "plt.title(f\"Prediction Probabilities for: \\\"{user_sentence}\\\"\", fontsize=14, fontweight='bold')\n",
        "plt.ylabel(\"Probability\")\n",
        "plt.xticks(rotation=45)\n",
        "plt.ylim(0, 1)\n",
        "plt.grid(axis='y', linestyle='--', alpha=0.6)\n",
        "plt.show()"
      ],
      "metadata": {
        "colab": {
          "base_uri": "https://localhost:8080/",
          "height": 827
        },
        "id": "vqw5E-ktAViU",
        "outputId": "e738eb5d-2fdc-4a52-9086-6c48da5094f3"
      },
      "execution_count": 50,
      "outputs": [
        {
          "output_type": "stream",
          "name": "stdout",
          "text": [
            "Enter a sentence: lets celebrate\n",
            "\n",
            "Sentence: lets celebrate\n",
            "Predicted Emoji: 13\n",
            "\n",
            "🥳 : 23.15 %\n",
            "👍 : 6.12 %\n",
            "😱 : 5.85 %\n",
            "😋 : 5.85 %\n",
            "😴 : 5.80 %\n",
            "😢 : 5.76 %\n",
            "🤔 : 5.73 %\n",
            "😊 : 5.61 %\n",
            "😡 : 5.52 %\n",
            "🔥 : 5.18 %\n",
            "🥺 : 5.17 %\n",
            "😂 : 5.16 %\n",
            "🙏 : 5.10 %\n",
            "❤️ : 5.08 %\n",
            "🎂 : 4.94 %\n"
          ]
        },
        {
          "output_type": "display_data",
          "data": {
            "text/plain": [
              "<Figure size 800x500 with 1 Axes>"
            ],
            "image/png": "[encoded data removed]"
          },
          "metadata": {}
        }
      ]
    },
    {
      "cell_type": "markdown",
      "source": [
        "## Step 10: Model Save & Load"
      ],
      "metadata": {
        "id": "oNZOz2SbBbBU"
      }
    },
    {
      "cell_type": "code",
      "source": [
        "import joblib\n",
        "\n",
        "# ----- Save Model -----\n",
        "joblib.dump(model, \"emoji_model.pkl\")\n",
        "joblib.dump(vectorizer, \"vectorizer.pkl\")\n",
        "joblib.dump(le, \"label_encoder.pkl\")\n",
        "print(\"Model, Vectorizer, and Label Encoder saved successfully!\")\n",
        "\n",
        "# ----- Load Model -----\n",
        "loaded_model = joblib.load(\"emoji_model.pkl\")\n",
        "loaded_vectorizer = joblib.load(\"vectorizer.pkl\")\n",
        "loaded_le = joblib.load(\"label_encoder.pkl\")\n",
        "print(\"Model, Vectorizer, and Label Encoder loaded successfully!\")\n",
        "\n",
        "# ----- Test Loaded Model with Multiple Sentences -----\n",
        "test_sentences = [\n",
        "    \"I am feeling so sleepy right now\",   # 😴\n",
        "    \"I love programming so much\",         # ❤️\n",
        "    \"Happy birthday to you\",               # 🎂\n",
        "    \"I am very angry right now\",           # 😡\n",
        "    \"Let's celebrate tonight!\"             # 🥳\n",
        "]\n",
        "\n",
        "for sentence in test_sentences:\n",
        "    cleaned = clean_text(sentence)\n",
        "    vec = loaded_vectorizer.transform([cleaned])\n",
        "    pred_label = loaded_model.predict(vec)[0]\n",
        "    pred_emoji = loaded_le.inverse_transform([pred_label])[0]\n",
        "    print(f\"Sentence: {sentence}\")\n",
        "    print(f\"Prediction: {pred_emoji}\")\n",
        "    print(\"-\" * 40)\n"
      ],
      "metadata": {
        "colab": {
          "base_uri": "https://localhost:8080/"
        },
        "id": "gL78XVEFAdYo",
        "outputId": "ba5dc7d3-f8da-4e76-97b7-288549f0b93c"
      },
      "execution_count": 61,
      "outputs": [
        {
          "output_type": "stream",
          "name": "stdout",
          "text": [
            "Model, Vectorizer, and Label Encoder saved successfully!\n",
            "Model, Vectorizer, and Label Encoder loaded successfully!\n",
            "Sentence: I am feeling so sleepy right now\n",
            "Prediction: 😴\n",
            "----------------------------------------\n",
            "Sentence: I love programming so much\n",
            "Prediction: ❤️\n",
            "----------------------------------------\n",
            "Sentence: Happy birthday to you\n",
            "Prediction: 🎂\n",
            "----------------------------------------\n",
            "Sentence: I am very angry right now\n",
            "Prediction: 😡\n",
            "----------------------------------------\n",
            "Sentence: Let's celebrate tonight!\n",
            "Prediction: 🥳\n",
            "----------------------------------------\n"
          ]
        }
      ]
    },
    {
      "cell_type": "markdown",
      "source": [
        "**File Download in Jupyter/Colab**"
      ],
      "metadata": {
        "id": "Kg1-IUj_Bm6P"
      }
    },
    {
      "cell_type": "code",
      "source": [
        "from google.colab import files\n",
        "\n",
        "files.download(\"emoji_model.pkl\")\n",
        "files.download(\"vectorizer.pkl\")\n",
        "files.download(\"label_encoder.pkl\")"
      ],
      "metadata": {
        "colab": {
          "base_uri": "https://localhost:8080/",
          "height": 17
        },
        "id": "pSpjT4nhBiCR",
        "outputId": "5402e34b-c444-4700-ab2f-01532119fef1"
      },
      "execution_count": 52,
      "outputs": [
        {
          "output_type": "display_data",
          "data": {
            "text/plain": [
              "<IPython.core.display.Javascript object>"
            ],
            "application/javascript": [
              "\n",
              "    async function download(id, filename, size) {\n",
              "      if (!google.colab.kernel.accessAllowed) {\n",
              "        return;\n",
              "      }\n",
              "      const div = document.createElement('div');\n",
              "      const label = document.createElement('label');\n",
              "      label.textContent = `Downloading \"${filename}\": `;\n",
              "      div.appendChild(label);\n",
              "      const progress = document.createElement('progress');\n",
              "      progress.max = size;\n",
              "      div.appendChild(progress);\n",
              "      document.body.appendChild(div);\n",
              "\n",
              "      const buffers = [];\n",
              "      let downloaded = 0;\n",
              "\n",
              "      const channel = await google.colab.kernel.comms.open(id);\n",
              "      // Send a message to notify the kernel that we're ready.\n",
              "      channel.send({})\n",
              "\n",
              "      for await (const message of channel.messages) {\n",
              "        // Send a message to notify the kernel that we're ready.\n",
              "        channel.send({})\n",
              "        if (message.buffers) {\n",
              "          for (const buffer of message.buffers) {\n",
              "            buffers.push(buffer);\n",
              "            downloaded += buffer.byteLength;\n",
              "            progress.value = downloaded;\n",
              "          }\n",
              "        }\n",
              "      }\n",
              "      const blob = new Blob(buffers, {type: 'application/binary'});\n",
              "      const a = document.createElement('a');\n",
              "      a.href = window.URL.createObjectURL(blob);\n",
              "      a.download = filename;\n",
              "      div.appendChild(a);\n",
              "      a.click();\n",
              "      div.remove();\n",
              "    }\n",
              "  "
            ]
          },
          "metadata": {}
        },
        {
          "output_type": "display_data",
          "data": {
            "text/plain": [
              "<IPython.core.display.Javascript object>"
            ],
            "application/javascript": [
              "download(\"download_5a9b7c19-25b1-4869-af6c-c258c72c5cab\", \"emoji_model.pkl\", 63615)"
            ]
          },
          "metadata": {}
        },
        {
          "output_type": "display_data",
          "data": {
            "text/plain": [
              "<IPython.core.display.Javascript object>"
            ],
            "application/javascript": [
              "\n",
              "    async function download(id, filename, size) {\n",
              "      if (!google.colab.kernel.accessAllowed) {\n",
              "        return;\n",
              "      }\n",
              "      const div = document.createElement('div');\n",
              "      const label = document.createElement('label');\n",
              "      label.textContent = `Downloading \"${filename}\": `;\n",
              "      div.appendChild(label);\n",
              "      const progress = document.createElement('progress');\n",
              "      progress.max = size;\n",
              "      div.appendChild(progress);\n",
              "      document.body.appendChild(div);\n",
              "\n",
              "      const buffers = [];\n",
              "      let downloaded = 0;\n",
              "\n",
              "      const channel = await google.colab.kernel.comms.open(id);\n",
              "      // Send a message to notify the kernel that we're ready.\n",
              "      channel.send({})\n",
              "\n",
              "      for await (const message of channel.messages) {\n",
              "        // Send a message to notify the kernel that we're ready.\n",
              "        channel.send({})\n",
              "        if (message.buffers) {\n",
              "          for (const buffer of message.buffers) {\n",
              "            buffers.push(buffer);\n",
              "            downloaded += buffer.byteLength;\n",
              "            progress.value = downloaded;\n",
              "          }\n",
              "        }\n",
              "      }\n",
              "      const blob = new Blob(buffers, {type: 'application/binary'});\n",
              "      const a = document.createElement('a');\n",
              "      a.href = window.URL.createObjectURL(blob);\n",
              "      a.download = filename;\n",
              "      div.appendChild(a);\n",
              "      a.click();\n",
              "      div.remove();\n",
              "    }\n",
              "  "
            ]
          },
          "metadata": {}
        },
        {
          "output_type": "display_data",
          "data": {
            "text/plain": [
              "<IPython.core.display.Javascript object>"
            ],
            "application/javascript": [
              "download(\"download_fda224d1-3c42-431c-9b70-074420cbaf64\", \"vectorizer.pkl\", 12208)"
            ]
          },
          "metadata": {}
        },
        {
          "output_type": "display_data",
          "data": {
            "text/plain": [
              "<IPython.core.display.Javascript object>"
            ],
            "application/javascript": [
              "\n",
              "    async function download(id, filename, size) {\n",
              "      if (!google.colab.kernel.accessAllowed) {\n",
              "        return;\n",
              "      }\n",
              "      const div = document.createElement('div');\n",
              "      const label = document.createElement('label');\n",
              "      label.textContent = `Downloading \"${filename}\": `;\n",
              "      div.appendChild(label);\n",
              "      const progress = document.createElement('progress');\n",
              "      progress.max = size;\n",
              "      div.appendChild(progress);\n",
              "      document.body.appendChild(div);\n",
              "\n",
              "      const buffers = [];\n",
              "      let downloaded = 0;\n",
              "\n",
              "      const channel = await google.colab.kernel.comms.open(id);\n",
              "      // Send a message to notify the kernel that we're ready.\n",
              "      channel.send({})\n",
              "\n",
              "      for await (const message of channel.messages) {\n",
              "        // Send a message to notify the kernel that we're ready.\n",
              "        channel.send({})\n",
              "        if (message.buffers) {\n",
              "          for (const buffer of message.buffers) {\n",
              "            buffers.push(buffer);\n",
              "            downloaded += buffer.byteLength;\n",
              "            progress.value = downloaded;\n",
              "          }\n",
              "        }\n",
              "      }\n",
              "      const blob = new Blob(buffers, {type: 'application/binary'});\n",
              "      const a = document.createElement('a');\n",
              "      a.href = window.URL.createObjectURL(blob);\n",
              "      a.download = filename;\n",
              "      div.appendChild(a);\n",
              "      a.click();\n",
              "      div.remove();\n",
              "    }\n",
              "  "
            ]
          },
          "metadata": {}
        },
        {
          "output_type": "display_data",
          "data": {
            "text/plain": [
              "<IPython.core.display.Javascript object>"
            ],
            "application/javascript": [
              "download(\"download_ef98c702-85a2-41b7-81e2-f8fb014ebee9\", \"label_encoder.pkl\", 580)"
            ]
          },
          "metadata": {}
        }
      ]
    },
    {
      "cell_type": "code",
      "source": [],
      "metadata": {
        "id": "QdPwSF9FDckf"
      },
      "execution_count": null,
      "outputs": []
    }
  ]
}